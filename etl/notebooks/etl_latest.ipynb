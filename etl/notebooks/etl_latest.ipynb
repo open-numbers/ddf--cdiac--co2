{
 "cells": [
  {
   "cell_type": "code",
   "execution_count": 1,
   "metadata": {
    "collapsed": true
   },
   "outputs": [],
   "source": [
    "import pandas as pd\n",
    "import numpy as np\n",
    "\n",
    "import re\n",
    "import os"
   ]
  },
  {
   "cell_type": "code",
   "execution_count": 3,
   "metadata": {
    "collapsed": true
   },
   "outputs": [],
   "source": [
    "from ddf_utils.str import to_concept_id, format_float_digits\n",
    "from ddf_utils.index import create_index_file"
   ]
  },
  {
   "cell_type": "code",
   "execution_count": 5,
   "metadata": {
    "collapsed": true
   },
   "outputs": [],
   "source": [
    "def read_source(f, skip=0, **kwargs):\n",
    "    df = pd.read_csv(f, **kwargs)\n",
    "    # quick fix for malformed csv downloaded from data povider\n",
    "    if df.columns[0] == 'Year\"':\n",
    "        df = df.rename(columns={'Year\"': 'Year'})\n",
    "    df.columns = list(map(lambda x: x.lower().replace('\\n', ''), df.columns))\n",
    "    df = df.ix[skip:]  # skip first few rows of data\n",
    "    \n",
    "    return df"
   ]
  },
  {
   "cell_type": "code",
   "execution_count": 9,
   "metadata": {
    "collapsed": true
   },
   "outputs": [],
   "source": [
    "nation_file = '../source/nation.1751_2013.csv'\n",
    "global_file = '../source/global.1751_2013.csv'"
   ]
  },
  {
   "cell_type": "code",
   "execution_count": 10,
   "metadata": {
    "collapsed": false
   },
   "outputs": [],
   "source": [
    "nation_data = read_source(nation_file, skip=3, na_values='.')\n",
    "global_data = read_source(global_file, skip=1, na_values='.')"
   ]
  },
  {
   "cell_type": "code",
   "execution_count": 13,
   "metadata": {
    "collapsed": false
   },
   "outputs": [
    {
     "data": {
      "text/html": [
       "<div>\n",
       "<table border=\"1\" class=\"dataframe\">\n",
       "  <thead>\n",
       "    <tr style=\"text-align: right;\">\n",
       "      <th></th>\n",
       "      <th>year</th>\n",
       "      <th>total carbon emissions from fossil fuel consumption and cement production (million metric tons of c)</th>\n",
       "      <th>carbon emissions from gas fuel consumption</th>\n",
       "      <th>carbon emissions from liquid fuel consumption</th>\n",
       "      <th>carbon emissions from solid fuel consumption</th>\n",
       "      <th>carbon emissions from cement production</th>\n",
       "      <th>carbon emissions from gas flaring</th>\n",
       "      <th>per capita carbon emissions (metric tons of carbon; after 1949 only)</th>\n",
       "    </tr>\n",
       "  </thead>\n",
       "  <tbody>\n",
       "    <tr>\n",
       "      <th>1</th>\n",
       "      <td>1751</td>\n",
       "      <td>3</td>\n",
       "      <td>0</td>\n",
       "      <td>0.0</td>\n",
       "      <td>3.0</td>\n",
       "      <td>0.0</td>\n",
       "      <td>0.0</td>\n",
       "      <td>NaN</td>\n",
       "    </tr>\n",
       "    <tr>\n",
       "      <th>2</th>\n",
       "      <td>1752</td>\n",
       "      <td>3</td>\n",
       "      <td>0</td>\n",
       "      <td>0.0</td>\n",
       "      <td>3.0</td>\n",
       "      <td>0.0</td>\n",
       "      <td>0.0</td>\n",
       "      <td>NaN</td>\n",
       "    </tr>\n",
       "    <tr>\n",
       "      <th>3</th>\n",
       "      <td>1753</td>\n",
       "      <td>3</td>\n",
       "      <td>0</td>\n",
       "      <td>0.0</td>\n",
       "      <td>3.0</td>\n",
       "      <td>0.0</td>\n",
       "      <td>0.0</td>\n",
       "      <td>NaN</td>\n",
       "    </tr>\n",
       "    <tr>\n",
       "      <th>4</th>\n",
       "      <td>1754</td>\n",
       "      <td>3</td>\n",
       "      <td>0</td>\n",
       "      <td>0.0</td>\n",
       "      <td>3.0</td>\n",
       "      <td>0.0</td>\n",
       "      <td>0.0</td>\n",
       "      <td>NaN</td>\n",
       "    </tr>\n",
       "    <tr>\n",
       "      <th>5</th>\n",
       "      <td>1755</td>\n",
       "      <td>3</td>\n",
       "      <td>0</td>\n",
       "      <td>0.0</td>\n",
       "      <td>3.0</td>\n",
       "      <td>0.0</td>\n",
       "      <td>0.0</td>\n",
       "      <td>NaN</td>\n",
       "    </tr>\n",
       "  </tbody>\n",
       "</table>\n",
       "</div>"
      ],
      "text/plain": [
       "   year  \\\n",
       "1  1751   \n",
       "2  1752   \n",
       "3  1753   \n",
       "4  1754   \n",
       "5  1755   \n",
       "\n",
       "  total carbon emissions from fossil fuel consumption and cement production (million metric tons of c)  \\\n",
       "1                                                  3                                                     \n",
       "2                                                  3                                                     \n",
       "3                                                  3                                                     \n",
       "4                                                  3                                                     \n",
       "5                                                  3                                                     \n",
       "\n",
       "  carbon emissions from gas fuel consumption  \\\n",
       "1                                          0   \n",
       "2                                          0   \n",
       "3                                          0   \n",
       "4                                          0   \n",
       "5                                          0   \n",
       "\n",
       "   carbon emissions from liquid fuel consumption  \\\n",
       "1                                            0.0   \n",
       "2                                            0.0   \n",
       "3                                            0.0   \n",
       "4                                            0.0   \n",
       "5                                            0.0   \n",
       "\n",
       "   carbon emissions from solid fuel consumption  \\\n",
       "1                                           3.0   \n",
       "2                                           3.0   \n",
       "3                                           3.0   \n",
       "4                                           3.0   \n",
       "5                                           3.0   \n",
       "\n",
       "   carbon emissions from cement production  carbon emissions from gas flaring  \\\n",
       "1                                      0.0                                0.0   \n",
       "2                                      0.0                                0.0   \n",
       "3                                      0.0                                0.0   \n",
       "4                                      0.0                                0.0   \n",
       "5                                      0.0                                0.0   \n",
       "\n",
       "   per capita carbon emissions (metric tons of carbon; after 1949 only)  \n",
       "1                                                NaN                     \n",
       "2                                                NaN                     \n",
       "3                                                NaN                     \n",
       "4                                                NaN                     \n",
       "5                                                NaN                     "
      ]
     },
     "execution_count": 13,
     "metadata": {},
     "output_type": "execute_result"
    }
   ],
   "source": [
    "global_data.head()"
   ]
  },
  {
   "cell_type": "code",
   "execution_count": 14,
   "metadata": {
    "collapsed": false
   },
   "outputs": [
    {
     "data": {
      "text/html": [
       "<div>\n",
       "<table border=\"1\" class=\"dataframe\">\n",
       "  <thead>\n",
       "    <tr style=\"text-align: right;\">\n",
       "      <th></th>\n",
       "      <th>nation</th>\n",
       "      <th>year</th>\n",
       "      <th>total co2 emissions from fossil-fuels and cement production (thousand metric tons of c)</th>\n",
       "      <th>emissions from solid fuel consumption</th>\n",
       "      <th>emissions from liquid fuel consumption</th>\n",
       "      <th>emissions from gas fuel consumption</th>\n",
       "      <th>emissions from cement production</th>\n",
       "      <th>emissions from gas flaring</th>\n",
       "      <th>per capita co2 emissions (metric tons of carbon)</th>\n",
       "      <th>emissions from bunker fuels (not included in the totals)</th>\n",
       "    </tr>\n",
       "  </thead>\n",
       "  <tbody>\n",
       "    <tr>\n",
       "      <th>3</th>\n",
       "      <td>AFGHANISTAN</td>\n",
       "      <td>1949.0</td>\n",
       "      <td>4.0</td>\n",
       "      <td>4.0</td>\n",
       "      <td>0.0</td>\n",
       "      <td>0.0</td>\n",
       "      <td>0.0</td>\n",
       "      <td>NaN</td>\n",
       "      <td>NaN</td>\n",
       "      <td>0.0</td>\n",
       "    </tr>\n",
       "    <tr>\n",
       "      <th>4</th>\n",
       "      <td>AFGHANISTAN</td>\n",
       "      <td>1950.0</td>\n",
       "      <td>23.0</td>\n",
       "      <td>6.0</td>\n",
       "      <td>18.0</td>\n",
       "      <td>0.0</td>\n",
       "      <td>0.0</td>\n",
       "      <td>0.0</td>\n",
       "      <td>0.0</td>\n",
       "      <td>0.0</td>\n",
       "    </tr>\n",
       "    <tr>\n",
       "      <th>5</th>\n",
       "      <td>AFGHANISTAN</td>\n",
       "      <td>1951.0</td>\n",
       "      <td>25.0</td>\n",
       "      <td>7.0</td>\n",
       "      <td>18.0</td>\n",
       "      <td>0.0</td>\n",
       "      <td>0.0</td>\n",
       "      <td>0.0</td>\n",
       "      <td>0.0</td>\n",
       "      <td>0.0</td>\n",
       "    </tr>\n",
       "    <tr>\n",
       "      <th>6</th>\n",
       "      <td>AFGHANISTAN</td>\n",
       "      <td>1952.0</td>\n",
       "      <td>25.0</td>\n",
       "      <td>9.0</td>\n",
       "      <td>17.0</td>\n",
       "      <td>0.0</td>\n",
       "      <td>0.0</td>\n",
       "      <td>0.0</td>\n",
       "      <td>0.0</td>\n",
       "      <td>0.0</td>\n",
       "    </tr>\n",
       "    <tr>\n",
       "      <th>7</th>\n",
       "      <td>AFGHANISTAN</td>\n",
       "      <td>1953.0</td>\n",
       "      <td>29.0</td>\n",
       "      <td>10.0</td>\n",
       "      <td>18.0</td>\n",
       "      <td>0.0</td>\n",
       "      <td>0.0</td>\n",
       "      <td>0.0</td>\n",
       "      <td>0.0</td>\n",
       "      <td>0.0</td>\n",
       "    </tr>\n",
       "  </tbody>\n",
       "</table>\n",
       "</div>"
      ],
      "text/plain": [
       "        nation    year  \\\n",
       "3  AFGHANISTAN  1949.0   \n",
       "4  AFGHANISTAN  1950.0   \n",
       "5  AFGHANISTAN  1951.0   \n",
       "6  AFGHANISTAN  1952.0   \n",
       "7  AFGHANISTAN  1953.0   \n",
       "\n",
       "   total co2 emissions from fossil-fuels and cement production (thousand metric tons of c)  \\\n",
       "3                                                4.0                                         \n",
       "4                                               23.0                                         \n",
       "5                                               25.0                                         \n",
       "6                                               25.0                                         \n",
       "7                                               29.0                                         \n",
       "\n",
       "   emissions from solid fuel consumption  \\\n",
       "3                                    4.0   \n",
       "4                                    6.0   \n",
       "5                                    7.0   \n",
       "6                                    9.0   \n",
       "7                                   10.0   \n",
       "\n",
       "   emissions from liquid fuel consumption  \\\n",
       "3                                     0.0   \n",
       "4                                    18.0   \n",
       "5                                    18.0   \n",
       "6                                    17.0   \n",
       "7                                    18.0   \n",
       "\n",
       "   emissions from gas fuel consumption  emissions from cement production  \\\n",
       "3                                  0.0                               0.0   \n",
       "4                                  0.0                               0.0   \n",
       "5                                  0.0                               0.0   \n",
       "6                                  0.0                               0.0   \n",
       "7                                  0.0                               0.0   \n",
       "\n",
       "   emissions from gas flaring  \\\n",
       "3                         NaN   \n",
       "4                         0.0   \n",
       "5                         0.0   \n",
       "6                         0.0   \n",
       "7                         0.0   \n",
       "\n",
       "   per capita co2 emissions (metric tons of carbon)  \\\n",
       "3                                               NaN   \n",
       "4                                               0.0   \n",
       "5                                               0.0   \n",
       "6                                               0.0   \n",
       "7                                               0.0   \n",
       "\n",
       "   emissions from bunker fuels (not included in the totals)  \n",
       "3                                                0.0         \n",
       "4                                                0.0         \n",
       "5                                                0.0         \n",
       "6                                                0.0         \n",
       "7                                                0.0         "
      ]
     },
     "execution_count": 14,
     "metadata": {},
     "output_type": "execute_result"
    }
   ],
   "source": [
    "nation_data.head()"
   ]
  },
  {
   "cell_type": "code",
   "execution_count": 15,
   "metadata": {
    "collapsed": false
   },
   "outputs": [
    {
     "data": {
      "text/plain": [
       "False"
      ]
     },
     "execution_count": 15,
     "metadata": {},
     "output_type": "execute_result"
    }
   ],
   "source": [
    "nation_data.year.hasnans"
   ]
  },
  {
   "cell_type": "code",
   "execution_count": 16,
   "metadata": {
    "collapsed": true
   },
   "outputs": [],
   "source": [
    "# fix year to int\n",
    "nation_data.year = nation_data.year.map(int)\n",
    "global_data.year = global_data.year.map(int)"
   ]
  },
  {
   "cell_type": "code",
   "execution_count": 17,
   "metadata": {
    "collapsed": false
   },
   "outputs": [
    {
     "data": {
      "text/html": [
       "<div>\n",
       "<table border=\"1\" class=\"dataframe\">\n",
       "  <thead>\n",
       "    <tr style=\"text-align: right;\">\n",
       "      <th></th>\n",
       "      <th>nation</th>\n",
       "      <th>year</th>\n",
       "      <th>total co2 emissions from fossil-fuels and cement production (thousand metric tons of c)</th>\n",
       "      <th>emissions from solid fuel consumption</th>\n",
       "      <th>emissions from liquid fuel consumption</th>\n",
       "      <th>emissions from gas fuel consumption</th>\n",
       "      <th>emissions from cement production</th>\n",
       "      <th>emissions from gas flaring</th>\n",
       "      <th>per capita co2 emissions (metric tons of carbon)</th>\n",
       "      <th>emissions from bunker fuels (not included in the totals)</th>\n",
       "    </tr>\n",
       "  </thead>\n",
       "  <tbody>\n",
       "    <tr>\n",
       "      <th>3</th>\n",
       "      <td>AFGHANISTAN</td>\n",
       "      <td>1949</td>\n",
       "      <td>4.0</td>\n",
       "      <td>4.0</td>\n",
       "      <td>0.0</td>\n",
       "      <td>0.0</td>\n",
       "      <td>0.0</td>\n",
       "      <td>NaN</td>\n",
       "      <td>NaN</td>\n",
       "      <td>0.0</td>\n",
       "    </tr>\n",
       "    <tr>\n",
       "      <th>4</th>\n",
       "      <td>AFGHANISTAN</td>\n",
       "      <td>1950</td>\n",
       "      <td>23.0</td>\n",
       "      <td>6.0</td>\n",
       "      <td>18.0</td>\n",
       "      <td>0.0</td>\n",
       "      <td>0.0</td>\n",
       "      <td>0.0</td>\n",
       "      <td>0.0</td>\n",
       "      <td>0.0</td>\n",
       "    </tr>\n",
       "    <tr>\n",
       "      <th>5</th>\n",
       "      <td>AFGHANISTAN</td>\n",
       "      <td>1951</td>\n",
       "      <td>25.0</td>\n",
       "      <td>7.0</td>\n",
       "      <td>18.0</td>\n",
       "      <td>0.0</td>\n",
       "      <td>0.0</td>\n",
       "      <td>0.0</td>\n",
       "      <td>0.0</td>\n",
       "      <td>0.0</td>\n",
       "    </tr>\n",
       "    <tr>\n",
       "      <th>6</th>\n",
       "      <td>AFGHANISTAN</td>\n",
       "      <td>1952</td>\n",
       "      <td>25.0</td>\n",
       "      <td>9.0</td>\n",
       "      <td>17.0</td>\n",
       "      <td>0.0</td>\n",
       "      <td>0.0</td>\n",
       "      <td>0.0</td>\n",
       "      <td>0.0</td>\n",
       "      <td>0.0</td>\n",
       "    </tr>\n",
       "    <tr>\n",
       "      <th>7</th>\n",
       "      <td>AFGHANISTAN</td>\n",
       "      <td>1953</td>\n",
       "      <td>29.0</td>\n",
       "      <td>10.0</td>\n",
       "      <td>18.0</td>\n",
       "      <td>0.0</td>\n",
       "      <td>0.0</td>\n",
       "      <td>0.0</td>\n",
       "      <td>0.0</td>\n",
       "      <td>0.0</td>\n",
       "    </tr>\n",
       "  </tbody>\n",
       "</table>\n",
       "</div>"
      ],
      "text/plain": [
       "        nation  year  \\\n",
       "3  AFGHANISTAN  1949   \n",
       "4  AFGHANISTAN  1950   \n",
       "5  AFGHANISTAN  1951   \n",
       "6  AFGHANISTAN  1952   \n",
       "7  AFGHANISTAN  1953   \n",
       "\n",
       "   total co2 emissions from fossil-fuels and cement production (thousand metric tons of c)  \\\n",
       "3                                                4.0                                         \n",
       "4                                               23.0                                         \n",
       "5                                               25.0                                         \n",
       "6                                               25.0                                         \n",
       "7                                               29.0                                         \n",
       "\n",
       "   emissions from solid fuel consumption  \\\n",
       "3                                    4.0   \n",
       "4                                    6.0   \n",
       "5                                    7.0   \n",
       "6                                    9.0   \n",
       "7                                   10.0   \n",
       "\n",
       "   emissions from liquid fuel consumption  \\\n",
       "3                                     0.0   \n",
       "4                                    18.0   \n",
       "5                                    18.0   \n",
       "6                                    17.0   \n",
       "7                                    18.0   \n",
       "\n",
       "   emissions from gas fuel consumption  emissions from cement production  \\\n",
       "3                                  0.0                               0.0   \n",
       "4                                  0.0                               0.0   \n",
       "5                                  0.0                               0.0   \n",
       "6                                  0.0                               0.0   \n",
       "7                                  0.0                               0.0   \n",
       "\n",
       "   emissions from gas flaring  \\\n",
       "3                         NaN   \n",
       "4                         0.0   \n",
       "5                         0.0   \n",
       "6                         0.0   \n",
       "7                         0.0   \n",
       "\n",
       "   per capita co2 emissions (metric tons of carbon)  \\\n",
       "3                                               NaN   \n",
       "4                                               0.0   \n",
       "5                                               0.0   \n",
       "6                                               0.0   \n",
       "7                                               0.0   \n",
       "\n",
       "   emissions from bunker fuels (not included in the totals)  \n",
       "3                                                0.0         \n",
       "4                                                0.0         \n",
       "5                                                0.0         \n",
       "6                                                0.0         \n",
       "7                                                0.0         "
      ]
     },
     "execution_count": 17,
     "metadata": {},
     "output_type": "execute_result"
    }
   ],
   "source": [
    "nation_data.head()"
   ]
  },
  {
   "cell_type": "code",
   "execution_count": null,
   "metadata": {
    "collapsed": true
   },
   "outputs": [],
   "source": []
  },
  {
   "cell_type": "code",
   "execution_count": null,
   "metadata": {
    "collapsed": true
   },
   "outputs": [],
   "source": []
  },
  {
   "cell_type": "markdown",
   "metadata": {},
   "source": [
    "# concepts"
   ]
  },
  {
   "cell_type": "markdown",
   "metadata": {},
   "source": [
    "We are going to make the concept names for measures simpler. See https://github.com/open-numbers/ddf--cdiac--co2/issues/3"
   ]
  },
  {
   "cell_type": "code",
   "execution_count": 45,
   "metadata": {
    "collapsed": true
   },
   "outputs": [],
   "source": [
    "def get_concept_id(name):\n",
    "    \"\"\"return concept name for given indicator name.\n",
    "    \"\"\"\n",
    "    if 'total ' in name.lower():\n",
    "        return 'total_carbon_emissions'\n",
    "    else:\n",
    "        subtypes = [\n",
    "            'gas fuel consumption', 'liquid fuel consumption', 'solid fuel consumption',\n",
    "            'cement production', 'gas flaring', 'bunker fuels', 'per capita'\n",
    "        ]\n",
    "        for i in subtypes:\n",
    "            if i in name.lower():\n",
    "                return 'carbon_emissions_'+to_concept_id(i)\n",
    "        # if nothing found, it should be a non measure concept.\n",
    "        return to_concept_id(name)"
   ]
  },
  {
   "cell_type": "code",
   "execution_count": 30,
   "metadata": {
    "collapsed": false
   },
   "outputs": [
    {
     "data": {
      "text/plain": [
       "Index(['nation', 'year',\n",
       "       'total co2 emissions from fossil-fuels and cement production (thousand metric tons of c)',\n",
       "       'emissions from solid fuel consumption',\n",
       "       'emissions from liquid fuel consumption',\n",
       "       'emissions from gas fuel consumption',\n",
       "       'emissions from cement production', 'emissions from gas flaring',\n",
       "       'per capita co2 emissions (metric tons of carbon)',\n",
       "       'emissions from bunker fuels (not included in the totals)'],\n",
       "      dtype='object')"
      ]
     },
     "execution_count": 30,
     "metadata": {},
     "output_type": "execute_result"
    }
   ],
   "source": [
    "nation_data.columns"
   ]
  },
  {
   "cell_type": "code",
   "execution_count": 31,
   "metadata": {
    "collapsed": false
   },
   "outputs": [
    {
     "data": {
      "text/plain": [
       "['nation',\n",
       " 'year',\n",
       " 'total_carbon_emissions',\n",
       " 'carbon_emissions_solid_fuel_consumption',\n",
       " 'carbon_emissions_liquid_fuel_consumption',\n",
       " 'carbon_emissions_gas_fuel_consumption',\n",
       " 'carbon_emissions_cement_production',\n",
       " 'carbon_emissions_gas_flaring',\n",
       " 'carbon_emissions_per_capita',\n",
       " 'carbon_emissions_bunker_fuels']"
      ]
     },
     "execution_count": 31,
     "metadata": {},
     "output_type": "execute_result"
    }
   ],
   "source": [
    "list(map(get_concept_id, nation_data.columns))"
   ]
  },
  {
   "cell_type": "code",
   "execution_count": 27,
   "metadata": {
    "collapsed": false
   },
   "outputs": [
    {
     "data": {
      "text/plain": [
       "Index(['year',\n",
       "       'total carbon emissions from fossil fuel consumption and cement production (million metric tons of c)',\n",
       "       'carbon emissions from gas fuel consumption',\n",
       "       'carbon emissions from liquid fuel consumption',\n",
       "       'carbon emissions from solid fuel consumption',\n",
       "       'carbon emissions from cement production',\n",
       "       'carbon emissions from gas flaring',\n",
       "       'per capita carbon emissions (metric tons of carbon; after 1949 only)'],\n",
       "      dtype='object')"
      ]
     },
     "execution_count": 27,
     "metadata": {},
     "output_type": "execute_result"
    }
   ],
   "source": [
    "global_data.columns"
   ]
  },
  {
   "cell_type": "code",
   "execution_count": 32,
   "metadata": {
    "collapsed": false
   },
   "outputs": [
    {
     "data": {
      "text/plain": [
       "['year',\n",
       " 'total_carbon_emissions',\n",
       " 'carbon_emissions_gas_fuel_consumption',\n",
       " 'carbon_emissions_liquid_fuel_consumption',\n",
       " 'carbon_emissions_solid_fuel_consumption',\n",
       " 'carbon_emissions_cement_production',\n",
       " 'carbon_emissions_gas_flaring',\n",
       " 'carbon_emissions_per_capita']"
      ]
     },
     "execution_count": 32,
     "metadata": {},
     "output_type": "execute_result"
    }
   ],
   "source": [
    "list(map(get_concept_id, global_data.columns))"
   ]
  },
  {
   "cell_type": "code",
   "execution_count": 171,
   "metadata": {
    "collapsed": true
   },
   "outputs": [],
   "source": [
    "concept_discrete = ['year', 'nation', 'global', 'name', 'unit', 'description']"
   ]
  },
  {
   "cell_type": "code",
   "execution_count": 172,
   "metadata": {
    "collapsed": true
   },
   "outputs": [],
   "source": [
    "concept_all = np.r_[concept_discrete, list(map(get_concept_id, global_data.columns)), list(map(get_concept_id, nation_data.columns))]"
   ]
  },
  {
   "cell_type": "code",
   "execution_count": 173,
   "metadata": {
    "collapsed": false
   },
   "outputs": [],
   "source": [
    "concept_all = list(set(concept_all))"
   ]
  },
  {
   "cell_type": "code",
   "execution_count": 174,
   "metadata": {
    "collapsed": false
   },
   "outputs": [
    {
     "data": {
      "text/plain": [
       "['global',\n",
       " 'carbon_emissions_gas_fuel_consumption',\n",
       " 'carbon_emissions_per_capita',\n",
       " 'carbon_emissions_solid_fuel_consumption',\n",
       " 'nation',\n",
       " 'description',\n",
       " 'carbon_emissions_liquid_fuel_consumption',\n",
       " 'total_carbon_emissions',\n",
       " 'unit',\n",
       " 'name',\n",
       " 'year',\n",
       " 'carbon_emissions_gas_flaring',\n",
       " 'carbon_emissions_cement_production',\n",
       " 'carbon_emissions_bunker_fuels']"
      ]
     },
     "execution_count": 174,
     "metadata": {},
     "output_type": "execute_result"
    }
   ],
   "source": [
    "concept_all"
   ]
  },
  {
   "cell_type": "code",
   "execution_count": 175,
   "metadata": {
    "collapsed": true
   },
   "outputs": [],
   "source": [
    "cdf = pd.DataFrame(concept_all, columns=['concept'])"
   ]
  },
  {
   "cell_type": "code",
   "execution_count": 176,
   "metadata": {
    "collapsed": false
   },
   "outputs": [
    {
     "data": {
      "text/html": [
       "<div>\n",
       "<table border=\"1\" class=\"dataframe\">\n",
       "  <thead>\n",
       "    <tr style=\"text-align: right;\">\n",
       "      <th></th>\n",
       "      <th>concept</th>\n",
       "    </tr>\n",
       "  </thead>\n",
       "  <tbody>\n",
       "    <tr>\n",
       "      <th>0</th>\n",
       "      <td>global</td>\n",
       "    </tr>\n",
       "    <tr>\n",
       "      <th>1</th>\n",
       "      <td>carbon_emissions_gas_fuel_consumption</td>\n",
       "    </tr>\n",
       "    <tr>\n",
       "      <th>2</th>\n",
       "      <td>carbon_emissions_per_capita</td>\n",
       "    </tr>\n",
       "    <tr>\n",
       "      <th>3</th>\n",
       "      <td>carbon_emissions_solid_fuel_consumption</td>\n",
       "    </tr>\n",
       "    <tr>\n",
       "      <th>4</th>\n",
       "      <td>nation</td>\n",
       "    </tr>\n",
       "    <tr>\n",
       "      <th>5</th>\n",
       "      <td>description</td>\n",
       "    </tr>\n",
       "    <tr>\n",
       "      <th>6</th>\n",
       "      <td>carbon_emissions_liquid_fuel_consumption</td>\n",
       "    </tr>\n",
       "    <tr>\n",
       "      <th>7</th>\n",
       "      <td>total_carbon_emissions</td>\n",
       "    </tr>\n",
       "    <tr>\n",
       "      <th>8</th>\n",
       "      <td>unit</td>\n",
       "    </tr>\n",
       "    <tr>\n",
       "      <th>9</th>\n",
       "      <td>name</td>\n",
       "    </tr>\n",
       "    <tr>\n",
       "      <th>10</th>\n",
       "      <td>year</td>\n",
       "    </tr>\n",
       "    <tr>\n",
       "      <th>11</th>\n",
       "      <td>carbon_emissions_gas_flaring</td>\n",
       "    </tr>\n",
       "    <tr>\n",
       "      <th>12</th>\n",
       "      <td>carbon_emissions_cement_production</td>\n",
       "    </tr>\n",
       "    <tr>\n",
       "      <th>13</th>\n",
       "      <td>carbon_emissions_bunker_fuels</td>\n",
       "    </tr>\n",
       "  </tbody>\n",
       "</table>\n",
       "</div>"
      ],
      "text/plain": [
       "                                     concept\n",
       "0                                     global\n",
       "1      carbon_emissions_gas_fuel_consumption\n",
       "2                carbon_emissions_per_capita\n",
       "3    carbon_emissions_solid_fuel_consumption\n",
       "4                                     nation\n",
       "5                                description\n",
       "6   carbon_emissions_liquid_fuel_consumption\n",
       "7                     total_carbon_emissions\n",
       "8                                       unit\n",
       "9                                       name\n",
       "10                                      year\n",
       "11              carbon_emissions_gas_flaring\n",
       "12        carbon_emissions_cement_production\n",
       "13             carbon_emissions_bunker_fuels"
      ]
     },
     "execution_count": 176,
     "metadata": {},
     "output_type": "execute_result"
    }
   ],
   "source": [
    "cdf"
   ]
  },
  {
   "cell_type": "code",
   "execution_count": 53,
   "metadata": {
    "collapsed": false
   },
   "outputs": [],
   "source": [
    "def get_concept_name(concept):\n",
    "    if concept.startswith('carbon_emissions'):\n",
    "        n0 = 'Carbon Emissions'\n",
    "        n1 = concept.replace('carbon_emissions_', '').replace('_', ' ').title()\n",
    "        return n0 + ' From ' + n1\n",
    "    else:\n",
    "        return concept.replace('_', ' ').title()"
   ]
  },
  {
   "cell_type": "code",
   "execution_count": 177,
   "metadata": {
    "collapsed": true
   },
   "outputs": [],
   "source": [
    "cdf['name'] = cdf.concept.map(get_concept_name)"
   ]
  },
  {
   "cell_type": "code",
   "execution_count": 178,
   "metadata": {
    "collapsed": false
   },
   "outputs": [
    {
     "data": {
      "text/html": [
       "<div>\n",
       "<table border=\"1\" class=\"dataframe\">\n",
       "  <thead>\n",
       "    <tr style=\"text-align: right;\">\n",
       "      <th></th>\n",
       "      <th>concept</th>\n",
       "      <th>name</th>\n",
       "    </tr>\n",
       "  </thead>\n",
       "  <tbody>\n",
       "    <tr>\n",
       "      <th>0</th>\n",
       "      <td>global</td>\n",
       "      <td>Global</td>\n",
       "    </tr>\n",
       "    <tr>\n",
       "      <th>1</th>\n",
       "      <td>carbon_emissions_gas_fuel_consumption</td>\n",
       "      <td>Carbon Emissions From Gas Fuel Consumption</td>\n",
       "    </tr>\n",
       "    <tr>\n",
       "      <th>2</th>\n",
       "      <td>carbon_emissions_per_capita</td>\n",
       "      <td>Carbon Emissions From Per Capita</td>\n",
       "    </tr>\n",
       "    <tr>\n",
       "      <th>3</th>\n",
       "      <td>carbon_emissions_solid_fuel_consumption</td>\n",
       "      <td>Carbon Emissions From Solid Fuel Consumption</td>\n",
       "    </tr>\n",
       "    <tr>\n",
       "      <th>4</th>\n",
       "      <td>nation</td>\n",
       "      <td>Nation</td>\n",
       "    </tr>\n",
       "    <tr>\n",
       "      <th>5</th>\n",
       "      <td>description</td>\n",
       "      <td>Description</td>\n",
       "    </tr>\n",
       "    <tr>\n",
       "      <th>6</th>\n",
       "      <td>carbon_emissions_liquid_fuel_consumption</td>\n",
       "      <td>Carbon Emissions From Liquid Fuel Consumption</td>\n",
       "    </tr>\n",
       "    <tr>\n",
       "      <th>7</th>\n",
       "      <td>total_carbon_emissions</td>\n",
       "      <td>Total Carbon Emissions</td>\n",
       "    </tr>\n",
       "    <tr>\n",
       "      <th>8</th>\n",
       "      <td>unit</td>\n",
       "      <td>Unit</td>\n",
       "    </tr>\n",
       "    <tr>\n",
       "      <th>9</th>\n",
       "      <td>name</td>\n",
       "      <td>Name</td>\n",
       "    </tr>\n",
       "    <tr>\n",
       "      <th>10</th>\n",
       "      <td>year</td>\n",
       "      <td>Year</td>\n",
       "    </tr>\n",
       "    <tr>\n",
       "      <th>11</th>\n",
       "      <td>carbon_emissions_gas_flaring</td>\n",
       "      <td>Carbon Emissions From Gas Flaring</td>\n",
       "    </tr>\n",
       "    <tr>\n",
       "      <th>12</th>\n",
       "      <td>carbon_emissions_cement_production</td>\n",
       "      <td>Carbon Emissions From Cement Production</td>\n",
       "    </tr>\n",
       "    <tr>\n",
       "      <th>13</th>\n",
       "      <td>carbon_emissions_bunker_fuels</td>\n",
       "      <td>Carbon Emissions From Bunker Fuels</td>\n",
       "    </tr>\n",
       "  </tbody>\n",
       "</table>\n",
       "</div>"
      ],
      "text/plain": [
       "                                     concept  \\\n",
       "0                                     global   \n",
       "1      carbon_emissions_gas_fuel_consumption   \n",
       "2                carbon_emissions_per_capita   \n",
       "3    carbon_emissions_solid_fuel_consumption   \n",
       "4                                     nation   \n",
       "5                                description   \n",
       "6   carbon_emissions_liquid_fuel_consumption   \n",
       "7                     total_carbon_emissions   \n",
       "8                                       unit   \n",
       "9                                       name   \n",
       "10                                      year   \n",
       "11              carbon_emissions_gas_flaring   \n",
       "12        carbon_emissions_cement_production   \n",
       "13             carbon_emissions_bunker_fuels   \n",
       "\n",
       "                                             name  \n",
       "0                                          Global  \n",
       "1      Carbon Emissions From Gas Fuel Consumption  \n",
       "2                Carbon Emissions From Per Capita  \n",
       "3    Carbon Emissions From Solid Fuel Consumption  \n",
       "4                                          Nation  \n",
       "5                                     Description  \n",
       "6   Carbon Emissions From Liquid Fuel Consumption  \n",
       "7                          Total Carbon Emissions  \n",
       "8                                            Unit  \n",
       "9                                            Name  \n",
       "10                                           Year  \n",
       "11              Carbon Emissions From Gas Flaring  \n",
       "12        Carbon Emissions From Cement Production  \n",
       "13             Carbon Emissions From Bunker Fuels  "
      ]
     },
     "execution_count": 178,
     "metadata": {},
     "output_type": "execute_result"
    }
   ],
   "source": [
    "cdf"
   ]
  },
  {
   "cell_type": "code",
   "execution_count": 179,
   "metadata": {
    "collapsed": true
   },
   "outputs": [],
   "source": [
    "cdf['concept_type'] = cdf.concept.map(lambda x: 'measure' if 'carbon' in x else 'string')\n",
    "\n",
    "cdf['unit'] = cdf.concept.map(lambda x: 'thousand metric tons' if 'carbon' in x else np.nan)"
   ]
  },
  {
   "cell_type": "code",
   "execution_count": 180,
   "metadata": {
    "collapsed": false
   },
   "outputs": [],
   "source": [
    "cdf = cdf.set_index('concept')\n",
    "cdf.loc[['global', 'nation'], 'concept_type'] = 'entity_domain'\n",
    "\n",
    "cdf.loc['total_carbon_emissions', 'description'] = 'Sum of fossil fuel consumption, cement production and gas flaring emissions'\n",
    "cdf.loc['carbon_emissions_per_capita', 'unit'] = 'metric tonnes per person'\n",
    "cdf.loc['year', 'concept_type'] = 'time'\n",
    "\n",
    "cdf = cdf.reset_index()\n",
    "cdf = cdf.sort_values(by='concept_type')"
   ]
  },
  {
   "cell_type": "code",
   "execution_count": 181,
   "metadata": {
    "collapsed": false
   },
   "outputs": [
    {
     "data": {
      "text/html": [
       "<div>\n",
       "<table border=\"1\" class=\"dataframe\">\n",
       "  <thead>\n",
       "    <tr style=\"text-align: right;\">\n",
       "      <th></th>\n",
       "      <th>concept</th>\n",
       "      <th>name</th>\n",
       "      <th>concept_type</th>\n",
       "      <th>unit</th>\n",
       "      <th>description</th>\n",
       "    </tr>\n",
       "  </thead>\n",
       "  <tbody>\n",
       "    <tr>\n",
       "      <th>0</th>\n",
       "      <td>global</td>\n",
       "      <td>Global</td>\n",
       "      <td>entity_domain</td>\n",
       "      <td>NaN</td>\n",
       "      <td>NaN</td>\n",
       "    </tr>\n",
       "    <tr>\n",
       "      <th>4</th>\n",
       "      <td>nation</td>\n",
       "      <td>Nation</td>\n",
       "      <td>entity_domain</td>\n",
       "      <td>NaN</td>\n",
       "      <td>NaN</td>\n",
       "    </tr>\n",
       "    <tr>\n",
       "      <th>1</th>\n",
       "      <td>carbon_emissions_gas_fuel_consumption</td>\n",
       "      <td>Carbon Emissions From Gas Fuel Consumption</td>\n",
       "      <td>measure</td>\n",
       "      <td>thousand metric tons</td>\n",
       "      <td>NaN</td>\n",
       "    </tr>\n",
       "    <tr>\n",
       "      <th>2</th>\n",
       "      <td>carbon_emissions_per_capita</td>\n",
       "      <td>Carbon Emissions From Per Capita</td>\n",
       "      <td>measure</td>\n",
       "      <td>metric tonnes per person</td>\n",
       "      <td>NaN</td>\n",
       "    </tr>\n",
       "    <tr>\n",
       "      <th>3</th>\n",
       "      <td>carbon_emissions_solid_fuel_consumption</td>\n",
       "      <td>Carbon Emissions From Solid Fuel Consumption</td>\n",
       "      <td>measure</td>\n",
       "      <td>thousand metric tons</td>\n",
       "      <td>NaN</td>\n",
       "    </tr>\n",
       "    <tr>\n",
       "      <th>6</th>\n",
       "      <td>carbon_emissions_liquid_fuel_consumption</td>\n",
       "      <td>Carbon Emissions From Liquid Fuel Consumption</td>\n",
       "      <td>measure</td>\n",
       "      <td>thousand metric tons</td>\n",
       "      <td>NaN</td>\n",
       "    </tr>\n",
       "    <tr>\n",
       "      <th>7</th>\n",
       "      <td>total_carbon_emissions</td>\n",
       "      <td>Total Carbon Emissions</td>\n",
       "      <td>measure</td>\n",
       "      <td>thousand metric tons</td>\n",
       "      <td>Sum of fossil fuel consumption, cement product...</td>\n",
       "    </tr>\n",
       "    <tr>\n",
       "      <th>11</th>\n",
       "      <td>carbon_emissions_gas_flaring</td>\n",
       "      <td>Carbon Emissions From Gas Flaring</td>\n",
       "      <td>measure</td>\n",
       "      <td>thousand metric tons</td>\n",
       "      <td>NaN</td>\n",
       "    </tr>\n",
       "    <tr>\n",
       "      <th>12</th>\n",
       "      <td>carbon_emissions_cement_production</td>\n",
       "      <td>Carbon Emissions From Cement Production</td>\n",
       "      <td>measure</td>\n",
       "      <td>thousand metric tons</td>\n",
       "      <td>NaN</td>\n",
       "    </tr>\n",
       "    <tr>\n",
       "      <th>13</th>\n",
       "      <td>carbon_emissions_bunker_fuels</td>\n",
       "      <td>Carbon Emissions From Bunker Fuels</td>\n",
       "      <td>measure</td>\n",
       "      <td>thousand metric tons</td>\n",
       "      <td>NaN</td>\n",
       "    </tr>\n",
       "    <tr>\n",
       "      <th>5</th>\n",
       "      <td>description</td>\n",
       "      <td>Description</td>\n",
       "      <td>string</td>\n",
       "      <td>NaN</td>\n",
       "      <td>NaN</td>\n",
       "    </tr>\n",
       "    <tr>\n",
       "      <th>8</th>\n",
       "      <td>unit</td>\n",
       "      <td>Unit</td>\n",
       "      <td>string</td>\n",
       "      <td>NaN</td>\n",
       "      <td>NaN</td>\n",
       "    </tr>\n",
       "    <tr>\n",
       "      <th>9</th>\n",
       "      <td>name</td>\n",
       "      <td>Name</td>\n",
       "      <td>string</td>\n",
       "      <td>NaN</td>\n",
       "      <td>NaN</td>\n",
       "    </tr>\n",
       "    <tr>\n",
       "      <th>10</th>\n",
       "      <td>year</td>\n",
       "      <td>Year</td>\n",
       "      <td>time</td>\n",
       "      <td>NaN</td>\n",
       "      <td>NaN</td>\n",
       "    </tr>\n",
       "  </tbody>\n",
       "</table>\n",
       "</div>"
      ],
      "text/plain": [
       "                                     concept  \\\n",
       "0                                     global   \n",
       "4                                     nation   \n",
       "1      carbon_emissions_gas_fuel_consumption   \n",
       "2                carbon_emissions_per_capita   \n",
       "3    carbon_emissions_solid_fuel_consumption   \n",
       "6   carbon_emissions_liquid_fuel_consumption   \n",
       "7                     total_carbon_emissions   \n",
       "11              carbon_emissions_gas_flaring   \n",
       "12        carbon_emissions_cement_production   \n",
       "13             carbon_emissions_bunker_fuels   \n",
       "5                                description   \n",
       "8                                       unit   \n",
       "9                                       name   \n",
       "10                                      year   \n",
       "\n",
       "                                             name   concept_type  \\\n",
       "0                                          Global  entity_domain   \n",
       "4                                          Nation  entity_domain   \n",
       "1      Carbon Emissions From Gas Fuel Consumption        measure   \n",
       "2                Carbon Emissions From Per Capita        measure   \n",
       "3    Carbon Emissions From Solid Fuel Consumption        measure   \n",
       "6   Carbon Emissions From Liquid Fuel Consumption        measure   \n",
       "7                          Total Carbon Emissions        measure   \n",
       "11              Carbon Emissions From Gas Flaring        measure   \n",
       "12        Carbon Emissions From Cement Production        measure   \n",
       "13             Carbon Emissions From Bunker Fuels        measure   \n",
       "5                                     Description         string   \n",
       "8                                            Unit         string   \n",
       "9                                            Name         string   \n",
       "10                                           Year           time   \n",
       "\n",
       "                        unit  \\\n",
       "0                        NaN   \n",
       "4                        NaN   \n",
       "1       thousand metric tons   \n",
       "2   metric tonnes per person   \n",
       "3       thousand metric tons   \n",
       "6       thousand metric tons   \n",
       "7       thousand metric tons   \n",
       "11      thousand metric tons   \n",
       "12      thousand metric tons   \n",
       "13      thousand metric tons   \n",
       "5                        NaN   \n",
       "8                        NaN   \n",
       "9                        NaN   \n",
       "10                       NaN   \n",
       "\n",
       "                                          description  \n",
       "0                                                 NaN  \n",
       "4                                                 NaN  \n",
       "1                                                 NaN  \n",
       "2                                                 NaN  \n",
       "3                                                 NaN  \n",
       "6                                                 NaN  \n",
       "7   Sum of fossil fuel consumption, cement product...  \n",
       "11                                                NaN  \n",
       "12                                                NaN  \n",
       "13                                                NaN  \n",
       "5                                                 NaN  \n",
       "8                                                 NaN  \n",
       "9                                                 NaN  \n",
       "10                                                NaN  "
      ]
     },
     "execution_count": 181,
     "metadata": {},
     "output_type": "execute_result"
    }
   ],
   "source": [
    "cdf"
   ]
  },
  {
   "cell_type": "code",
   "execution_count": 182,
   "metadata": {
    "collapsed": true
   },
   "outputs": [],
   "source": [
    "cdf.to_csv('../../ddf--concepts.csv', index=False)"
   ]
  },
  {
   "cell_type": "code",
   "execution_count": null,
   "metadata": {
    "collapsed": true
   },
   "outputs": [],
   "source": []
  },
  {
   "cell_type": "code",
   "execution_count": null,
   "metadata": {
    "collapsed": true
   },
   "outputs": [],
   "source": []
  },
  {
   "cell_type": "markdown",
   "metadata": {},
   "source": [
    "# entities"
   ]
  },
  {
   "cell_type": "code",
   "execution_count": 67,
   "metadata": {
    "collapsed": false
   },
   "outputs": [],
   "source": [
    "nations_df = pd.DataFrame([nation_data.nation.map(to_concept_id).unique(), nation_data.nation.unique()])"
   ]
  },
  {
   "cell_type": "code",
   "execution_count": 70,
   "metadata": {
    "collapsed": false
   },
   "outputs": [],
   "source": [
    "nations_df = nations_df.T\n",
    "nations_df.columns = ['nation', 'name']"
   ]
  },
  {
   "cell_type": "code",
   "execution_count": 74,
   "metadata": {
    "collapsed": false
   },
   "outputs": [
    {
     "data": {
      "text/html": [
       "<div>\n",
       "<table border=\"1\" class=\"dataframe\">\n",
       "  <thead>\n",
       "    <tr style=\"text-align: right;\">\n",
       "      <th></th>\n",
       "      <th>nation</th>\n",
       "      <th>name</th>\n",
       "    </tr>\n",
       "  </thead>\n",
       "  <tbody>\n",
       "    <tr>\n",
       "      <th>0</th>\n",
       "      <td>afghanistan</td>\n",
       "      <td>AFGHANISTAN</td>\n",
       "    </tr>\n",
       "    <tr>\n",
       "      <th>1</th>\n",
       "      <td>albania</td>\n",
       "      <td>ALBANIA</td>\n",
       "    </tr>\n",
       "    <tr>\n",
       "      <th>2</th>\n",
       "      <td>algeria</td>\n",
       "      <td>ALGERIA</td>\n",
       "    </tr>\n",
       "    <tr>\n",
       "      <th>3</th>\n",
       "      <td>andorra</td>\n",
       "      <td>ANDORRA</td>\n",
       "    </tr>\n",
       "    <tr>\n",
       "      <th>4</th>\n",
       "      <td>angola</td>\n",
       "      <td>ANGOLA</td>\n",
       "    </tr>\n",
       "  </tbody>\n",
       "</table>\n",
       "</div>"
      ],
      "text/plain": [
       "        nation         name\n",
       "0  afghanistan  AFGHANISTAN\n",
       "1      albania      ALBANIA\n",
       "2      algeria      ALGERIA\n",
       "3      andorra      ANDORRA\n",
       "4       angola       ANGOLA"
      ]
     },
     "execution_count": 74,
     "metadata": {},
     "output_type": "execute_result"
    }
   ],
   "source": [
    "nations_df.head()"
   ]
  },
  {
   "cell_type": "code",
   "execution_count": 77,
   "metadata": {
    "collapsed": true
   },
   "outputs": [],
   "source": [
    "nations_df.to_csv('../../ddf--entities--nation.csv', index=False)"
   ]
  },
  {
   "cell_type": "code",
   "execution_count": null,
   "metadata": {
    "collapsed": true
   },
   "outputs": [],
   "source": []
  },
  {
   "cell_type": "code",
   "execution_count": 78,
   "metadata": {
    "collapsed": true
   },
   "outputs": [],
   "source": [
    "global_ent = pd.DataFrame([['world', 'World']], columns=['global', 'name'])"
   ]
  },
  {
   "cell_type": "code",
   "execution_count": 80,
   "metadata": {
    "collapsed": false
   },
   "outputs": [],
   "source": [
    "global_ent.to_csv('../../ddf--entities--global.csv', index=False)"
   ]
  },
  {
   "cell_type": "code",
   "execution_count": null,
   "metadata": {
    "collapsed": true
   },
   "outputs": [],
   "source": []
  },
  {
   "cell_type": "markdown",
   "metadata": {},
   "source": [
    "# datapoints\n",
    "\n",
    "datapoints are in different units in nation file and global file. So we should make them same as stated in concepts files.\n",
    "\n",
    "more details in https://github.com/open-numbers/ddf--cdiac--co2/issues/3"
   ]
  },
  {
   "cell_type": "code",
   "execution_count": 82,
   "metadata": {
    "collapsed": false
   },
   "outputs": [],
   "source": [
    "nation_data.columns = list(map(get_concept_id, nation_data.columns))"
   ]
  },
  {
   "cell_type": "code",
   "execution_count": 83,
   "metadata": {
    "collapsed": true
   },
   "outputs": [],
   "source": [
    "nation_data.nation = nation_data.nation.map(to_concept_id)"
   ]
  },
  {
   "cell_type": "code",
   "execution_count": 84,
   "metadata": {
    "collapsed": false
   },
   "outputs": [
    {
     "data": {
      "text/html": [
       "<div>\n",
       "<table border=\"1\" class=\"dataframe\">\n",
       "  <thead>\n",
       "    <tr style=\"text-align: right;\">\n",
       "      <th></th>\n",
       "      <th>nation</th>\n",
       "      <th>year</th>\n",
       "      <th>total_carbon_emissions</th>\n",
       "      <th>carbon_emissions_solid_fuel_consumption</th>\n",
       "      <th>carbon_emissions_liquid_fuel_consumption</th>\n",
       "      <th>carbon_emissions_gas_fuel_consumption</th>\n",
       "      <th>carbon_emissions_cement_production</th>\n",
       "      <th>carbon_emissions_gas_flaring</th>\n",
       "      <th>carbon_emissions_per_capita</th>\n",
       "      <th>carbon_emissions_bunker_fuels</th>\n",
       "    </tr>\n",
       "  </thead>\n",
       "  <tbody>\n",
       "    <tr>\n",
       "      <th>3</th>\n",
       "      <td>afghanistan</td>\n",
       "      <td>1949</td>\n",
       "      <td>4.0</td>\n",
       "      <td>4.0</td>\n",
       "      <td>0.0</td>\n",
       "      <td>0.0</td>\n",
       "      <td>0.0</td>\n",
       "      <td>NaN</td>\n",
       "      <td>NaN</td>\n",
       "      <td>0.0</td>\n",
       "    </tr>\n",
       "    <tr>\n",
       "      <th>4</th>\n",
       "      <td>afghanistan</td>\n",
       "      <td>1950</td>\n",
       "      <td>23.0</td>\n",
       "      <td>6.0</td>\n",
       "      <td>18.0</td>\n",
       "      <td>0.0</td>\n",
       "      <td>0.0</td>\n",
       "      <td>0.0</td>\n",
       "      <td>0.0</td>\n",
       "      <td>0.0</td>\n",
       "    </tr>\n",
       "    <tr>\n",
       "      <th>5</th>\n",
       "      <td>afghanistan</td>\n",
       "      <td>1951</td>\n",
       "      <td>25.0</td>\n",
       "      <td>7.0</td>\n",
       "      <td>18.0</td>\n",
       "      <td>0.0</td>\n",
       "      <td>0.0</td>\n",
       "      <td>0.0</td>\n",
       "      <td>0.0</td>\n",
       "      <td>0.0</td>\n",
       "    </tr>\n",
       "    <tr>\n",
       "      <th>6</th>\n",
       "      <td>afghanistan</td>\n",
       "      <td>1952</td>\n",
       "      <td>25.0</td>\n",
       "      <td>9.0</td>\n",
       "      <td>17.0</td>\n",
       "      <td>0.0</td>\n",
       "      <td>0.0</td>\n",
       "      <td>0.0</td>\n",
       "      <td>0.0</td>\n",
       "      <td>0.0</td>\n",
       "    </tr>\n",
       "    <tr>\n",
       "      <th>7</th>\n",
       "      <td>afghanistan</td>\n",
       "      <td>1953</td>\n",
       "      <td>29.0</td>\n",
       "      <td>10.0</td>\n",
       "      <td>18.0</td>\n",
       "      <td>0.0</td>\n",
       "      <td>0.0</td>\n",
       "      <td>0.0</td>\n",
       "      <td>0.0</td>\n",
       "      <td>0.0</td>\n",
       "    </tr>\n",
       "  </tbody>\n",
       "</table>\n",
       "</div>"
      ],
      "text/plain": [
       "        nation  year  total_carbon_emissions  \\\n",
       "3  afghanistan  1949                     4.0   \n",
       "4  afghanistan  1950                    23.0   \n",
       "5  afghanistan  1951                    25.0   \n",
       "6  afghanistan  1952                    25.0   \n",
       "7  afghanistan  1953                    29.0   \n",
       "\n",
       "   carbon_emissions_solid_fuel_consumption  \\\n",
       "3                                      4.0   \n",
       "4                                      6.0   \n",
       "5                                      7.0   \n",
       "6                                      9.0   \n",
       "7                                     10.0   \n",
       "\n",
       "   carbon_emissions_liquid_fuel_consumption  \\\n",
       "3                                       0.0   \n",
       "4                                      18.0   \n",
       "5                                      18.0   \n",
       "6                                      17.0   \n",
       "7                                      18.0   \n",
       "\n",
       "   carbon_emissions_gas_fuel_consumption  carbon_emissions_cement_production  \\\n",
       "3                                    0.0                                 0.0   \n",
       "4                                    0.0                                 0.0   \n",
       "5                                    0.0                                 0.0   \n",
       "6                                    0.0                                 0.0   \n",
       "7                                    0.0                                 0.0   \n",
       "\n",
       "   carbon_emissions_gas_flaring  carbon_emissions_per_capita  \\\n",
       "3                           NaN                          NaN   \n",
       "4                           0.0                          0.0   \n",
       "5                           0.0                          0.0   \n",
       "6                           0.0                          0.0   \n",
       "7                           0.0                          0.0   \n",
       "\n",
       "   carbon_emissions_bunker_fuels  \n",
       "3                            0.0  \n",
       "4                            0.0  \n",
       "5                            0.0  \n",
       "6                            0.0  \n",
       "7                            0.0  "
      ]
     },
     "execution_count": 84,
     "metadata": {},
     "output_type": "execute_result"
    }
   ],
   "source": [
    "nation_data.head()"
   ]
  },
  {
   "cell_type": "code",
   "execution_count": 85,
   "metadata": {
    "collapsed": true
   },
   "outputs": [],
   "source": [
    "ndf = nation_data.set_index(['nation', 'year']).copy()"
   ]
  },
  {
   "cell_type": "code",
   "execution_count": 131,
   "metadata": {
    "collapsed": false
   },
   "outputs": [],
   "source": [
    "for col in ndf:\n",
    "#     ndf[col] = ndf[col].map(format_float_digits)\n",
    "    ndf[col].dropna().to_csv('../../ddf--datapoints--{}--by--nation--year.csv'.format(col), header=True)"
   ]
  },
  {
   "cell_type": "code",
   "execution_count": null,
   "metadata": {
    "collapsed": true
   },
   "outputs": [],
   "source": []
  },
  {
   "cell_type": "code",
   "execution_count": null,
   "metadata": {
    "collapsed": true
   },
   "outputs": [],
   "source": []
  },
  {
   "cell_type": "code",
   "execution_count": 114,
   "metadata": {
    "collapsed": true
   },
   "outputs": [],
   "source": [
    "global_data.columns = list(map(get_concept_id, global_data.columns))"
   ]
  },
  {
   "cell_type": "code",
   "execution_count": 115,
   "metadata": {
    "collapsed": true
   },
   "outputs": [],
   "source": [
    "global_data['global'] = 'world'"
   ]
  },
  {
   "cell_type": "code",
   "execution_count": 162,
   "metadata": {
    "collapsed": true
   },
   "outputs": [],
   "source": [
    "global_data.year = global_data.year.map(int)"
   ]
  },
  {
   "cell_type": "code",
   "execution_count": 221,
   "metadata": {
    "collapsed": false
   },
   "outputs": [],
   "source": [
    "# global data. global data is expressed in million tonnes, so we need to multiply them to make\n",
    "# them same uint as nation data\n",
    "\n",
    "gdf = global_data.set_index(['global', 'year']).copy()\n",
    "\n",
    "for col in gdf:\n",
    "    ser = gdf[col].map(float)  # not sure why some columns not reconized as float. fix those here.\n",
    "    if 'per_capita' in col: # don't change per capita data\n",
    "        ser.dropna().to_csv('../../ddf--datapoints--{}--by--global--year.csv'.format(col), header=True)\n",
    "    else:  # multiply 1000\n",
    "        (ser*1000).dropna().to_csv('../../ddf--datapoints--{}--by--global--year.csv'.format(col), header=True)"
   ]
  },
  {
   "cell_type": "code",
   "execution_count": null,
   "metadata": {
    "collapsed": true
   },
   "outputs": [],
   "source": []
  },
  {
   "cell_type": "markdown",
   "metadata": {},
   "source": [
    "# Double Check: does sum of nation data equals global data?"
   ]
  },
  {
   "cell_type": "code",
   "execution_count": 284,
   "metadata": {
    "collapsed": true
   },
   "outputs": [],
   "source": [
    "# pick some random indicator\n",
    "\n",
    "check = 'carbon_emissions_liquid_fuel_consumption'"
   ]
  },
  {
   "cell_type": "code",
   "execution_count": 285,
   "metadata": {
    "collapsed": false
   },
   "outputs": [],
   "source": [
    "nation_agg = ndf[check].groupby(level=1).sum()"
   ]
  },
  {
   "cell_type": "code",
   "execution_count": 292,
   "metadata": {
    "collapsed": false
   },
   "outputs": [],
   "source": [
    "a = nation_agg.iloc[120:150]"
   ]
  },
  {
   "cell_type": "code",
   "execution_count": 293,
   "metadata": {
    "collapsed": false
   },
   "outputs": [],
   "source": [
    "b = (gdf[check].map(float)*1000).groupby(level=1).sum().iloc[120:150]"
   ]
  },
  {
   "cell_type": "code",
   "execution_count": 294,
   "metadata": {
    "collapsed": false
   },
   "outputs": [
    {
     "data": {
      "text/html": [
       "<div>\n",
       "<table border=\"1\" class=\"dataframe\">\n",
       "  <thead>\n",
       "    <tr style=\"text-align: right;\">\n",
       "      <th></th>\n",
       "      <th>carbon_emissions_liquid_fuel_consumption</th>\n",
       "      <th>carbon_emissions_liquid_fuel_consumption</th>\n",
       "    </tr>\n",
       "    <tr>\n",
       "      <th>year</th>\n",
       "      <th></th>\n",
       "      <th></th>\n",
       "    </tr>\n",
       "  </thead>\n",
       "  <tbody>\n",
       "    <tr>\n",
       "      <th>1871</th>\n",
       "      <td>878.0</td>\n",
       "      <td>1000.0</td>\n",
       "    </tr>\n",
       "    <tr>\n",
       "      <th>1872</th>\n",
       "      <td>990.0</td>\n",
       "      <td>1000.0</td>\n",
       "    </tr>\n",
       "    <tr>\n",
       "      <th>1873</th>\n",
       "      <td>1517.0</td>\n",
       "      <td>1000.0</td>\n",
       "    </tr>\n",
       "    <tr>\n",
       "      <th>1874</th>\n",
       "      <td>1662.0</td>\n",
       "      <td>1000.0</td>\n",
       "    </tr>\n",
       "    <tr>\n",
       "      <th>1875</th>\n",
       "      <td>1537.0</td>\n",
       "      <td>1000.0</td>\n",
       "    </tr>\n",
       "    <tr>\n",
       "      <th>1876</th>\n",
       "      <td>1708.0</td>\n",
       "      <td>1000.0</td>\n",
       "    </tr>\n",
       "    <tr>\n",
       "      <th>1877</th>\n",
       "      <td>2325.0</td>\n",
       "      <td>2000.0</td>\n",
       "    </tr>\n",
       "    <tr>\n",
       "      <th>1878</th>\n",
       "      <td>2633.0</td>\n",
       "      <td>2000.0</td>\n",
       "    </tr>\n",
       "    <tr>\n",
       "      <th>1879</th>\n",
       "      <td>3342.0</td>\n",
       "      <td>3000.0</td>\n",
       "    </tr>\n",
       "    <tr>\n",
       "      <th>1880</th>\n",
       "      <td>4061.0</td>\n",
       "      <td>3000.0</td>\n",
       "    </tr>\n",
       "    <tr>\n",
       "      <th>1881</th>\n",
       "      <td>4566.0</td>\n",
       "      <td>4000.0</td>\n",
       "    </tr>\n",
       "    <tr>\n",
       "      <th>1882</th>\n",
       "      <td>5022.0</td>\n",
       "      <td>4000.0</td>\n",
       "    </tr>\n",
       "    <tr>\n",
       "      <th>1883</th>\n",
       "      <td>4336.0</td>\n",
       "      <td>3000.0</td>\n",
       "    </tr>\n",
       "    <tr>\n",
       "      <th>1884</th>\n",
       "      <td>4845.0</td>\n",
       "      <td>4000.0</td>\n",
       "    </tr>\n",
       "    <tr>\n",
       "      <th>1885</th>\n",
       "      <td>5020.0</td>\n",
       "      <td>4000.0</td>\n",
       "    </tr>\n",
       "    <tr>\n",
       "      <th>1886</th>\n",
       "      <td>5799.0</td>\n",
       "      <td>5000.0</td>\n",
       "    </tr>\n",
       "    <tr>\n",
       "      <th>1887</th>\n",
       "      <td>6269.0</td>\n",
       "      <td>5000.0</td>\n",
       "    </tr>\n",
       "    <tr>\n",
       "      <th>1888</th>\n",
       "      <td>6569.0</td>\n",
       "      <td>5000.0</td>\n",
       "    </tr>\n",
       "    <tr>\n",
       "      <th>1889</th>\n",
       "      <td>7588.0</td>\n",
       "      <td>6000.0</td>\n",
       "    </tr>\n",
       "    <tr>\n",
       "      <th>1890</th>\n",
       "      <td>9286.0</td>\n",
       "      <td>8000.0</td>\n",
       "    </tr>\n",
       "    <tr>\n",
       "      <th>1891</th>\n",
       "      <td>10984.0</td>\n",
       "      <td>9000.0</td>\n",
       "    </tr>\n",
       "    <tr>\n",
       "      <th>1892</th>\n",
       "      <td>10796.0</td>\n",
       "      <td>9000.0</td>\n",
       "    </tr>\n",
       "    <tr>\n",
       "      <th>1893</th>\n",
       "      <td>11411.0</td>\n",
       "      <td>10000.0</td>\n",
       "    </tr>\n",
       "    <tr>\n",
       "      <th>1894</th>\n",
       "      <td>11139.0</td>\n",
       "      <td>9000.0</td>\n",
       "    </tr>\n",
       "    <tr>\n",
       "      <th>1895</th>\n",
       "      <td>13040.0</td>\n",
       "      <td>11000.0</td>\n",
       "    </tr>\n",
       "    <tr>\n",
       "      <th>1896</th>\n",
       "      <td>14126.0</td>\n",
       "      <td>12000.0</td>\n",
       "    </tr>\n",
       "    <tr>\n",
       "      <th>1897</th>\n",
       "      <td>14891.0</td>\n",
       "      <td>13000.0</td>\n",
       "    </tr>\n",
       "    <tr>\n",
       "      <th>1898</th>\n",
       "      <td>15311.0</td>\n",
       "      <td>13000.0</td>\n",
       "    </tr>\n",
       "    <tr>\n",
       "      <th>1899</th>\n",
       "      <td>15993.0</td>\n",
       "      <td>14000.0</td>\n",
       "    </tr>\n",
       "    <tr>\n",
       "      <th>1900</th>\n",
       "      <td>17942.0</td>\n",
       "      <td>16000.0</td>\n",
       "    </tr>\n",
       "  </tbody>\n",
       "</table>\n",
       "</div>"
      ],
      "text/plain": [
       "      carbon_emissions_liquid_fuel_consumption  \\\n",
       "year                                             \n",
       "1871                                     878.0   \n",
       "1872                                     990.0   \n",
       "1873                                    1517.0   \n",
       "1874                                    1662.0   \n",
       "1875                                    1537.0   \n",
       "1876                                    1708.0   \n",
       "1877                                    2325.0   \n",
       "1878                                    2633.0   \n",
       "1879                                    3342.0   \n",
       "1880                                    4061.0   \n",
       "1881                                    4566.0   \n",
       "1882                                    5022.0   \n",
       "1883                                    4336.0   \n",
       "1884                                    4845.0   \n",
       "1885                                    5020.0   \n",
       "1886                                    5799.0   \n",
       "1887                                    6269.0   \n",
       "1888                                    6569.0   \n",
       "1889                                    7588.0   \n",
       "1890                                    9286.0   \n",
       "1891                                   10984.0   \n",
       "1892                                   10796.0   \n",
       "1893                                   11411.0   \n",
       "1894                                   11139.0   \n",
       "1895                                   13040.0   \n",
       "1896                                   14126.0   \n",
       "1897                                   14891.0   \n",
       "1898                                   15311.0   \n",
       "1899                                   15993.0   \n",
       "1900                                   17942.0   \n",
       "\n",
       "      carbon_emissions_liquid_fuel_consumption  \n",
       "year                                            \n",
       "1871                                    1000.0  \n",
       "1872                                    1000.0  \n",
       "1873                                    1000.0  \n",
       "1874                                    1000.0  \n",
       "1875                                    1000.0  \n",
       "1876                                    1000.0  \n",
       "1877                                    2000.0  \n",
       "1878                                    2000.0  \n",
       "1879                                    3000.0  \n",
       "1880                                    3000.0  \n",
       "1881                                    4000.0  \n",
       "1882                                    4000.0  \n",
       "1883                                    3000.0  \n",
       "1884                                    4000.0  \n",
       "1885                                    4000.0  \n",
       "1886                                    5000.0  \n",
       "1887                                    5000.0  \n",
       "1888                                    5000.0  \n",
       "1889                                    6000.0  \n",
       "1890                                    8000.0  \n",
       "1891                                    9000.0  \n",
       "1892                                    9000.0  \n",
       "1893                                   10000.0  \n",
       "1894                                    9000.0  \n",
       "1895                                   11000.0  \n",
       "1896                                   12000.0  \n",
       "1897                                   13000.0  \n",
       "1898                                   13000.0  \n",
       "1899                                   14000.0  \n",
       "1900                                   16000.0  "
      ]
     },
     "execution_count": 294,
     "metadata": {},
     "output_type": "execute_result"
    }
   ],
   "source": [
    "pd.concat([a, b], axis=1)"
   ]
  },
  {
   "cell_type": "markdown",
   "metadata": {},
   "source": [
    "**conclusion:** So we can see there is small differents in global and nation data. Not very big though"
   ]
  },
  {
   "cell_type": "code",
   "execution_count": 259,
   "metadata": {
    "collapsed": false
   },
   "outputs": [
    {
     "data": {
      "text/plain": [
       "379787.0"
      ]
     },
     "execution_count": 259,
     "metadata": {},
     "output_type": "execute_result"
    }
   ],
   "source": [
    "3065000.0 - 2685213.0"
   ]
  },
  {
   "cell_type": "code",
   "execution_count": 260,
   "metadata": {
    "collapsed": false
   },
   "outputs": [
    {
     "data": {
      "text/plain": [
       "0.12391092985318107"
      ]
     },
     "execution_count": 260,
     "metadata": {},
     "output_type": "execute_result"
    }
   ],
   "source": [
    "379787.0 / 3065000"
   ]
  },
  {
   "cell_type": "code",
   "execution_count": 154,
   "metadata": {
    "collapsed": true
   },
   "outputs": [],
   "source": [
    "# validation"
   ]
  },
  {
   "cell_type": "code",
   "execution_count": 187,
   "metadata": {
    "collapsed": false
   },
   "outputs": [
    {
     "name": "stdout",
     "output_type": "stream",
     "text": [
      "[\n",
      "{\"id\":\"INDEX_IS_NOT_FOUND\",\"type\":\"Index is not found\",\"path\":\"../../\",\"tags\":[\"WARNING\",\"FILE_SYSTEM\"]},\n",
      "\n",
      "{}]\n",
      "\n"
     ]
    }
   ],
   "source": [
    "!validate-ddf ../../ "
   ]
  },
  {
   "cell_type": "code",
   "execution_count": null,
   "metadata": {
    "collapsed": true
   },
   "outputs": [],
   "source": []
  }
 ],
 "metadata": {
  "kernelspec": {
   "display_name": "Python 3",
   "language": "python",
   "name": "python3"
  },
  "language_info": {
   "codemirror_mode": {
    "name": "ipython",
    "version": 3
   },
   "file_extension": ".py",
   "mimetype": "text/x-python",
   "name": "python",
   "nbconvert_exporter": "python",
   "pygments_lexer": "ipython3",
   "version": "3.5.2"
  }
 },
 "nbformat": 4,
 "nbformat_minor": 0
}
